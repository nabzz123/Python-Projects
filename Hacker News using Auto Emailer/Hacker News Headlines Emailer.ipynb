{
 "cells": [
  {
   "cell_type": "code",
   "execution_count": 1,
   "metadata": {},
   "outputs": [],
   "source": [
    "import requests #for http requests\n",
    "from bs4 import BeautifulSoup #for web scraping\n",
    "import smtplib #to send mails\n",
    "#Email Body\n",
    "from email.mime.multipart import MIMEMultipart \n",
    "from email.mime.text import MIMEText\n",
    "import datetime #system date and time Manipulation"
   ]
  },
  {
   "cell_type": "code",
   "execution_count": 2,
   "metadata": {},
   "outputs": [],
   "source": [
    "now = datetime.datetime.now()"
   ]
  },
  {
   "cell_type": "code",
   "execution_count": 3,
   "metadata": {},
   "outputs": [],
   "source": [
    "#email cntent placeholder\n",
    "content = ''"
   ]
  },
  {
   "cell_type": "code",
   "execution_count": 4,
   "metadata": {},
   "outputs": [],
   "source": [
    "def extract_news(url):\n",
    "    print(\"Extracting Hacker News Stories...\")\n",
    "    cnt = ''\n",
    "    cnt +=(\"<b>HN Top Stories:</b>\\n\"+\"<br>\"+\"-\"*50+\"<br>\")\n",
    "    response = requests.get(url)\n",
    "    content = response.content\n",
    "    soup = BeautifulSoup(content,\"html.parser\")\n",
    "    for i,tag in enumerate (soup.find_all(\"td\",attrs={\"class\":\"title\",\"valign\":\"\"})):\n",
    "        cnt += ((str(i+1)+\" :: \"+tag.text+\"\\n\"+\"<br>\") if tag.text != \"More\" else \"\")\n",
    "        #print (tag.prettify) #find_all(\"span\",attrs = {\"class\":\"sitestr\"})\n",
    "    return(cnt)"
   ]
  },
  {
   "cell_type": "code",
   "execution_count": 5,
   "metadata": {},
   "outputs": [
    {
     "name": "stdout",
     "output_type": "stream",
     "text": [
      "Extracting Hacker News Stories...\n"
     ]
    }
   ],
   "source": [
    "cnt = extract_news(\"https://news.ycombinator.com/\")\n",
    "content += cnt\n",
    "content += (\"<br>------------<br>\")\n",
    "content += (\"<br><br>End of Message\")"
   ]
  },
  {
   "cell_type": "code",
   "execution_count": 1,
   "metadata": {},
   "outputs": [
    {
     "name": "stdout",
     "output_type": "stream",
     "text": [
      "Composing Email....\n"
     ]
    }
   ],
   "source": [
    "# Composing Emails\n",
    "print(\"Composing Email....\")\n",
    "SERVER = \"smtp.gmail.com\"\n",
    "PORT = 587\n",
    "FROM = \"your gmail ID\"\n",
    "TO = \"receivers gmail ID\"\n",
    "PASS = \"your gmail-password\""
   ]
  },
  {
   "cell_type": "code",
   "execution_count": 7,
   "metadata": {},
   "outputs": [],
   "source": [
    "msg = MIMEMultipart()"
   ]
  },
  {
   "cell_type": "code",
   "execution_count": 8,
   "metadata": {},
   "outputs": [],
   "source": [
    "msg[\"Subject\"] = \"Top News Stories HN[Automated Email]\"+\" \"+ str(now.day)+\"-\"+ str(now.month)+\"-\"+ str(now.year) "
   ]
  },
  {
   "cell_type": "code",
   "execution_count": 9,
   "metadata": {},
   "outputs": [],
   "source": [
    "msg[\"From\"] = FROM\n",
    "msg[\"To\"] = TO"
   ]
  },
  {
   "cell_type": "code",
   "execution_count": 10,
   "metadata": {},
   "outputs": [],
   "source": [
    "msg.attach(MIMEText(content,\"html\"))"
   ]
  },
  {
   "cell_type": "code",
   "execution_count": 11,
   "metadata": {},
   "outputs": [
    {
     "name": "stdout",
     "output_type": "stream",
     "text": [
      "Initializing Server...\n"
     ]
    },
    {
     "name": "stderr",
     "output_type": "stream",
     "text": [
      "send: 'ehlo [169.254.131.251]\\r\\n'\n",
      "reply: b'250-smtp.gmail.com at your service, [27.106.101.150]\\r\\n'\n",
      "reply: b'250-SIZE 35882577\\r\\n'\n",
      "reply: b'250-8BITMIME\\r\\n'\n",
      "reply: b'250-STARTTLS\\r\\n'\n",
      "reply: b'250-ENHANCEDSTATUSCODES\\r\\n'\n",
      "reply: b'250-PIPELINING\\r\\n'\n",
      "reply: b'250-CHUNKING\\r\\n'\n",
      "reply: b'250 SMTPUTF8\\r\\n'\n",
      "reply: retcode (250); Msg: b'smtp.gmail.com at your service, [27.106.101.150]\\nSIZE 35882577\\n8BITMIME\\nSTARTTLS\\nENHANCEDSTATUSCODES\\nPIPELINING\\nCHUNKING\\nSMTPUTF8'\n",
      "send: 'STARTTLS\\r\\n'\n",
      "reply: b'220 2.0.0 Ready to start TLS\\r\\n'\n",
      "reply: retcode (220); Msg: b'2.0.0 Ready to start TLS'\n",
      "send: 'ehlo [169.254.131.251]\\r\\n'\n",
      "reply: b'250-smtp.gmail.com at your service, [27.106.101.150]\\r\\n'\n",
      "reply: b'250-SIZE 35882577\\r\\n'\n",
      "reply: b'250-8BITMIME\\r\\n'\n",
      "reply: b'250-AUTH LOGIN PLAIN XOAUTH2 PLAIN-CLIENTTOKEN OAUTHBEARER XOAUTH\\r\\n'\n",
      "reply: b'250-ENHANCEDSTATUSCODES\\r\\n'\n",
      "reply: b'250-PIPELINING\\r\\n'\n",
      "reply: b'250-CHUNKING\\r\\n'\n",
      "reply: b'250 SMTPUTF8\\r\\n'\n",
      "reply: retcode (250); Msg: b'smtp.gmail.com at your service, [27.106.101.150]\\nSIZE 35882577\\n8BITMIME\\nAUTH LOGIN PLAIN XOAUTH2 PLAIN-CLIENTTOKEN OAUTHBEARER XOAUTH\\nENHANCEDSTATUSCODES\\nPIPELINING\\nCHUNKING\\nSMTPUTF8'\n",
      "send: 'AUTH PLAIN AG5hYmVlbC5haG1hZHJzQGdtYWlsLmNvbQBOYWJ6ejEyMy4=\\r\\n'\n",
      "reply: b'235 2.7.0 Accepted\\r\\n'\n",
      "reply: retcode (235); Msg: b'2.7.0 Accepted'\n",
      "send: 'mail FROM:<nabeel.ahmadrs@gmail.com> size=3672\\r\\n'\n",
      "reply: b'250 2.1.0 OK h18sm4895021pfh.172 - gsmtp\\r\\n'\n",
      "reply: retcode (250); Msg: b'2.1.0 OK h18sm4895021pfh.172 - gsmtp'\n",
      "send: 'rcpt TO:<usaidmulla99@gmail.com>\\r\\n'\n",
      "reply: b'250 2.1.5 OK h18sm4895021pfh.172 - gsmtp\\r\\n'\n",
      "reply: retcode (250); Msg: b'2.1.5 OK h18sm4895021pfh.172 - gsmtp'\n",
      "send: 'data\\r\\n'\n",
      "reply: b'354  Go ahead h18sm4895021pfh.172 - gsmtp\\r\\n'\n",
      "reply: retcode (354); Msg: b'Go ahead h18sm4895021pfh.172 - gsmtp'\n",
      "data: (354, b'Go ahead h18sm4895021pfh.172 - gsmtp')\n",
      "send: b'Content-Type: multipart/mixed; boundary=\"===============1036426670880993993==\"\\r\\nMIME-Version: 1.0\\r\\nSubject: Top News Stories HN[Automated Email] 4-12-2021\\r\\nFrom: nabeel.ahmadrs@gmail.com\\r\\nTo: usaidmulla99@gmail.com\\r\\n\\r\\n--===============1036426670880993993==\\r\\nContent-Type: text/html; charset=\"utf-8\"\\r\\nMIME-Version: 1.0\\r\\nContent-Transfer-Encoding: base64\\r\\n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\\r\\n\\r\\n--===============1036426670880993993==--\\r\\n.\\r\\n'\n",
      "reply: b'250 2.0.0 OK  1638586871 h18sm4895021pfh.172 - gsmtp\\r\\n'\n",
      "reply: retcode (250); Msg: b'2.0.0 OK  1638586871 h18sm4895021pfh.172 - gsmtp'\n",
      "data: (250, b'2.0.0 OK  1638586871 h18sm4895021pfh.172 - gsmtp')\n"
     ]
    },
    {
     "data": {
      "text/plain": [
       "{}"
      ]
     },
     "execution_count": 11,
     "metadata": {},
     "output_type": "execute_result"
    }
   ],
   "source": [
    "print(\"Initializing Server...\")\n",
    "server = smtplib.SMTP(SERVER, PORT)\n",
    "server.set_debuglevel(1)\n",
    "server.ehlo()\n",
    "server.starttls()\n",
    "server.login(FROM, PASS)\n",
    "server.sendmail(FROM, TO, msg.as_string())"
   ]
  },
  {
   "cell_type": "code",
   "execution_count": 12,
   "metadata": {},
   "outputs": [
    {
     "name": "stdout",
     "output_type": "stream",
     "text": [
      "Email Sent....\n"
     ]
    }
   ],
   "source": [
    "print(\"Email Sent....\")"
   ]
  },
  {
   "cell_type": "code",
   "execution_count": 13,
   "metadata": {},
   "outputs": [
    {
     "name": "stderr",
     "output_type": "stream",
     "text": [
      "send: 'quit\\r\\n'\n",
      "reply: b'221 2.0.0 closing connection h18sm4895021pfh.172 - gsmtp\\r\\n'\n",
      "reply: retcode (221); Msg: b'2.0.0 closing connection h18sm4895021pfh.172 - gsmtp'\n"
     ]
    },
    {
     "data": {
      "text/plain": [
       "(221, b'2.0.0 closing connection h18sm4895021pfh.172 - gsmtp')"
      ]
     },
     "execution_count": 13,
     "metadata": {},
     "output_type": "execute_result"
    }
   ],
   "source": [
    "server.quit()"
   ]
  },
  {
   "cell_type": "code",
   "execution_count": null,
   "metadata": {},
   "outputs": [],
   "source": []
  }
 ],
 "metadata": {
  "kernelspec": {
   "display_name": "Python 3",
   "language": "python",
   "name": "python3"
  },
  "language_info": {
   "codemirror_mode": {
    "name": "ipython",
    "version": 3
   },
   "file_extension": ".py",
   "mimetype": "text/x-python",
   "name": "python",
   "nbconvert_exporter": "python",
   "pygments_lexer": "ipython3",
   "version": "3.8.3"
  }
 },
 "nbformat": 4,
 "nbformat_minor": 4
}
